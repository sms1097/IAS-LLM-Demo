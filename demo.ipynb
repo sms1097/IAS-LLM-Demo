{
 "cells": [
  {
   "cell_type": "markdown",
   "metadata": {},
   "source": [
    "# Leveraging an LLM for Customer Experience Tracking\n",
    "\n",
    "\n",
    "### Problem Statement\n",
    "- One Republic Airline (ORA) is testing a new refund process on their website\n",
    "- ORA wants to make sure this new refund process does not negatively impact customer experience\n",
    "- They are seeking a solution that will measure customer success related to the new website process"
   ]
  },
  {
   "cell_type": "markdown",
   "metadata": {},
   "source": [
    "### Considerations for Measuring Customer Experience\n",
    "- Customers leave reviews typically when they’re unhappy, we need to capture if these increase\n",
    "- If we ask the customers for a survey, we can encounter problems with bias\n",
    "    - Too many experiments yield surveys that are too long\n",
    "    - Wording of questions can lead customers to answer in unnatural ways\n",
    "\n",
    "\n",
    "### A Solution\n",
    "- If the website process truly has a negative impact on CX, we will see an increase of customers complaining\n",
    "- We capture natural feedback that occurs on our social media channels, in the call center, or any other relevant location\n",
    "- Levergaing a LLM the business can deploy an AI solution that categorizes text into multiple categories\n",
    "- By designing an experiment, we can see if CX is negatively impacted\n",
    "\n",
    "\n",
    "### Technical Details\n",
    "- Technical stakeholders can define tags they want to track that are relevant to their experiment\n",
    "- Leveraging a LLM, an engineering/experimentation team can setup tracking from customer success leveraging Zero-Shot Classification\n",
    "- By classifying sequences we now have a measure that we can track for a control/experimental group \n"
   ]
  },
  {
   "cell_type": "code",
   "execution_count": 88,
   "metadata": {},
   "outputs": [],
   "source": [
    "import os\n",
    "import tiktoken\n",
    "import pandas as pd\n",
    "import numpy as np\n",
    "import random\n",
    "import seaborn as sns\n",
    "from tenacity import retry, stop_after_attempt, wait_fixed\n",
    "from huggingface_hub import InferenceClient\n",
    "\n",
    "from openai import OpenAI\n",
    "from dotenv import load_dotenv\n",
    "\n",
    "load_dotenv(\".env\")\n",
    "\n",
    "OPENAI_KEY = os.environ[\"OPENAI_KEY\"]\n",
    "HF_TOKEN = os.environ['HF_TOKEN']\n",
    "\n",
    "\n",
    "GPT3 = \"gpt-3.5-turbo-1106\"\n",
    "GPT4 = \"gpt-4-1106-preview\"\n",
    "ZEPHYR = \"meta-llama/Llama-2-7b-chat-hf\"\n",
    "\n",
    "\n",
    "def num_tokens_from_string(string: str) -> int:\n",
    "    encoding = tiktoken.get_encoding(\"cl100k_base\")\n",
    "    num_tokens = len(encoding.encode(string))\n",
    "    return num_tokens\n",
    "\n",
    "\n",
    "@retry(wait=wait_fixed(15), stop=stop_after_attempt(4))\n",
    "def llm(user_prompt, model, temperature=0.3):\n",
    "    global COST\n",
    "    model_kwargs = {\"temperature\": temperature}\n",
    "    user_prompt = user_prompt[:3700]\n",
    "\n",
    "    client = OpenAI(api_key=OPENAI_KEY)\n",
    "\n",
    "    response = client.chat.completions.create(\n",
    "        model=model,\n",
    "        messages=[{\"role\": \"user\", \"content\": user_prompt}],\n",
    "        stream=False,\n",
    "        **model_kwargs,\n",
    "    )\n",
    "\n",
    "    output = response.choices[0].message.content\n",
    "\n",
    "    if model == GPT3:\n",
    "        COST += (\n",
    "            1\n",
    "            / 1000\n",
    "            * (\n",
    "                0.0010 * num_tokens_from_string(user_prompt)\n",
    "                + 0.002 * num_tokens_from_string(output)\n",
    "            )\n",
    "        )\n",
    "    elif model == GPT4:\n",
    "        COST += (\n",
    "            1\n",
    "            / 1000\n",
    "            * (\n",
    "                0.01 * num_tokens_from_string(user_prompt)\n",
    "                + 0.03 * num_tokens_from_string(output)\n",
    "            )\n",
    "        )\n",
    "\n",
    "    return output\n",
    "\n",
    "def hf_llm(text, model, params={'max_new_tokens': 500, 'temperature': 0.3}):\n",
    "\n",
    "    prompt = f\"<s>[INST]{text}[/INST]\"\n",
    "    client = InferenceClient(model=model, token=HF_TOKEN)\n",
    "\n",
    "    output = client.text_generation(prompt, **params)\n",
    "    return output\n"
   ]
  },
  {
   "cell_type": "markdown",
   "metadata": {},
   "source": [
    "## Step 1: Choose Categories\n",
    "Let's define the categories we want to track"
   ]
  },
  {
   "cell_type": "code",
   "execution_count": 2,
   "metadata": {},
   "outputs": [],
   "source": [
    "categories = [\"Snack Diversity\", \"Refund Process on Website\"]\n",
    "categories_str = '\\n'.join(['- ' + x for x in categories])"
   ]
  },
  {
   "cell_type": "markdown",
   "metadata": {},
   "source": [
    "## Step 2: Load in Some Comments\n",
    "We can extract comments from a hypothetial social channel "
   ]
  },
  {
   "cell_type": "code",
   "execution_count": 3,
   "metadata": {},
   "outputs": [],
   "source": [
    "comments_about_website_refund = [\n",
    "    \"The refund process for canceled flights is a nightmare! Clicking the refund button rarely works, and I find myself going in circles on the website. Very disappointed with the user experience.\",\n",
    "    \"It's like a game of chance with the refund button. Sometimes it works seamlessly, other times it just refuses to respond. This inconsistency is frustrating, and I wish the airline would fix this glitch.\",\n",
    "    \"I had a smooth experience with the new refund process. The button worked like a charm, and I got my refund without any hassle. Kudos to the airline for making it easy for customers like me!\",\n",
    "    \"Tried to process my refund, but the button didn't cooperate. I had to refresh the page multiple times before it finally worked. The website definitely needs some debugging.\",\n",
    "    \"I've attempted to use the refund button several times, and it has yet to function properly. This is incredibly inconvenient, and I hope the airline addresses this issue soon.\",\n",
    "    \"Surprisingly, I had no issues with the refund button. The process was quick, and I received my refund without any delays. I hope others have the same positive experience.\",\n",
    "    \"The new refund process is a step in the right direction, but the button's unreliability is a major drawback. It's frustrating to have to keep trying to get it to work correctly.\",\n",
    "    \"After struggling with the refund button for too long, I eventually gave up. The process is unnecessarily complicated, and the website needs a serious overhaul to fix this issue.\",\n",
    "    \"Some days, the refund button works seamlessly, while on other days, it's a complete disaster. The inconsistency is confusing and makes it hard to trust the system.\",\n",
    "    \"Despite hearing about issues with the refund button, I had a surprisingly efficient experience. Maybe I got lucky, but I hope the airline addresses the reported problems for everyone's sake\",\n",
    "]\n",
    "\n",
    "general_comments = [\n",
    "    \"Impressed with the airline's punctuality! My flight took off and landed right on time. Smooth operations from start to finish. Great job!\",\n",
    "    \"The seating on this airline is surprisingly comfortable. Ample legroom makes a huge difference, especially on longer flights. Thumbs up for a comfortable journey!\",\n",
    "    \"Kudos to the cabin crew! They were friendly, attentive, and made the journey enjoyable. Excellent service that stood out. I felt well taken care of.\",\n",
    "    \"Boarding was a breeze! The airline has an efficient system in place that ensures a quick and hassle-free boarding process. It's the little things that count!\",\n",
    "    \"Flew on a modern aircraft with updated amenities. The in-flight entertainment was a nice touch, and the plane itself seemed well-maintained. A modern flying experience.\",\n",
    "    \"What you see is what you pay! Transparent pricing with no hidden fees. Appreciate the honesty, and it makes budgeting for travel much easier. Will fly again!\",\n",
    "    \"Enjoyed the variety in meal options. It's refreshing to have choices that cater to different tastes and dietary preferences. Thumbs up for the culinary diversity!\",\n",
    "    \"Got my baggage in record time! Efficient baggage handling that saved me from the usual post-flight wait. Quick and hassle-free retrieval.\",\n",
    "    \"Cleanliness matters, and this airline gets it right. The cabins were spotless, and you could tell they take pride in maintaining a clean and welcoming environment.\",\n",
    "    \"Had a minor issue that was quickly resolved by the customer service team. Kudos for their responsiveness and commitment to ensuring passenger satisfaction. Great customer support!\",\n",
    "]\n",
    "\n",
    "all_comments = comments_about_website_refund + general_comments\n",
    "random.shuffle(all_comments)"
   ]
  },
  {
   "cell_type": "markdown",
   "metadata": {},
   "source": [
    "### Step 3: Tag the Comments\n",
    "We have comments and we have the categories so now we can use a LLM to tag our comments. We'll also ask it to explain the information so we can use that later."
   ]
  },
  {
   "cell_type": "code",
   "execution_count": 45,
   "metadata": {},
   "outputs": [],
   "source": [
    "tag_prompt_template = lambda review, category: f\"\"\"Is this review relevant to the following category? \n",
    "Create an explanation that is as specific as possible in the fewest words possible if relevant is True.\n",
    "Also report the sentiment of the category as positive, negative, or neutral if relevant is True.\n",
    "\n",
    "Example #1: \n",
    "Review: Tried to initiate a refund online, but the website constantly faced flickers and then fails to load. After managing to submit my request, there's been no confirmation or acknowledgment. It's concerning when the very platform meant for handling such transactions is unreliable. A prompt resolution and better online infrastructure are sorely needed.\n",
    "Category: Refund Process on Website \n",
    "\n",
    "Output:\n",
    "1. Relevant: True\n",
    "2. Explanation: Website constantly faced flickers and fails to load when initiating refund\n",
    "3. Sentiment: Negative\n",
    "\n",
    "\n",
    "Example #2:\n",
    "Review: The hostess did warn us when we entered that only the bar area was open and they were short staffed that nigh\n",
    "Category: Snack Diversity\n",
    "\n",
    "Output:\n",
    "1. Relevant: False\n",
    "2. Explanation: \"\"\n",
    "3. Sentiment: \"\"\n",
    "\n",
    "\n",
    "Example #3: \n",
    "Review: I decided to purchase a ticket direct non-stop since I need to be someplace on time. I bought a ticket, FULL price off Deltas website (not a third party). Decided yesterday to call my friend I am visiting and get all travel secured for drive, pickup and such. Opened the App, to notice my flight is totally different than the one purchased. \n",
    "Category: Booking Discrepency \n",
    "\n",
    "Output:\n",
    "1. Relevant: True\n",
    "2. Explanation: Flight in app is different from flight purchased\n",
    "3. Sentiment: Negative\n",
    "\n",
    "\n",
    "Review: {review}\n",
    "Category: {category}\n",
    "\n",
    "Output: \"\"\""
   ]
  },
  {
   "cell_type": "code",
   "execution_count": 46,
   "metadata": {},
   "outputs": [],
   "source": [
    "prompt = tag_prompt_template(comments_about_website_refund[0],  category='Refund Process on Website')"
   ]
  },
  {
   "cell_type": "code",
   "execution_count": 53,
   "metadata": {},
   "outputs": [],
   "source": [
    "def parse_output(output, category):\n",
    "    output = output.split(\"\\n\")\n",
    "    if len(output) == 1:\n",
    "        relevant = False\n",
    "        explanation = \"\"\n",
    "        sentiment = \"\"\n",
    "    else:\n",
    "        relevant = False if output[0].lstrip(\"1. Relevant: \") == \"False\" else True\n",
    "        explanation = output[1].lstrip(\"2. Explanation: \")\n",
    "        sentiment = output[2].lstrip(\"3. Sentiment: \")\n",
    "\n",
    "    return {\n",
    "        f\"{category}\": relevant,\n",
    "        f\"{category}_explanation\": explanation,\n",
    "        f\"{category}_sentiment\": sentiment,\n",
    "    }"
   ]
  },
  {
   "cell_type": "code",
   "execution_count": 57,
   "metadata": {},
   "outputs": [
    {
     "name": "stdout",
     "output_type": "stream",
     "text": [
      "All Done! This cost $0.017\n"
     ]
    }
   ],
   "source": [
    "global COST\n",
    "COST = 0\n",
    "records = []\n",
    "for comment in all_comments:\n",
    "    r = {'comment': comment}\n",
    "    for category in categories:\n",
    "        prompt = tag_prompt_template(comment, category)\n",
    "        output = llm(prompt, GPT3)\n",
    "        category_tags = parse_output(output, category)\n",
    "        r.update(category_tags)\n",
    "    records.append(r)\n",
    "\n",
    "print(f\"All Done! This cost ${round(COST, 3)}\")"
   ]
  },
  {
   "cell_type": "code",
   "execution_count": 58,
   "metadata": {},
   "outputs": [],
   "source": [
    "df = pd.DataFrame.from_records(records)"
   ]
  },
  {
   "cell_type": "code",
   "execution_count": 59,
   "metadata": {},
   "outputs": [
    {
     "data": {
      "text/html": [
       "<div>\n",
       "<style scoped>\n",
       "    .dataframe tbody tr th:only-of-type {\n",
       "        vertical-align: middle;\n",
       "    }\n",
       "\n",
       "    .dataframe tbody tr th {\n",
       "        vertical-align: top;\n",
       "    }\n",
       "\n",
       "    .dataframe thead th {\n",
       "        text-align: right;\n",
       "    }\n",
       "</style>\n",
       "<table border=\"1\" class=\"dataframe\">\n",
       "  <thead>\n",
       "    <tr style=\"text-align: right;\">\n",
       "      <th></th>\n",
       "      <th>comment</th>\n",
       "      <th>Snack Diversity</th>\n",
       "      <th>Snack Diversity_explanation</th>\n",
       "      <th>Snack Diversity_sentiment</th>\n",
       "      <th>Refund Process on Website</th>\n",
       "      <th>Refund Process on Website_explanation</th>\n",
       "      <th>Refund Process on Website_sentiment</th>\n",
       "    </tr>\n",
       "  </thead>\n",
       "  <tbody>\n",
       "    <tr>\n",
       "      <th>0</th>\n",
       "      <td>What you see is what you pay! Transparent pric...</td>\n",
       "      <td>False</td>\n",
       "      <td>\"\"</td>\n",
       "      <td>\"\"</td>\n",
       "      <td>False</td>\n",
       "      <td>\"\"</td>\n",
       "      <td>\"\"</td>\n",
       "    </tr>\n",
       "    <tr>\n",
       "      <th>1</th>\n",
       "      <td>After struggling with the refund button for to...</td>\n",
       "      <td>False</td>\n",
       "      <td>\"\"</td>\n",
       "      <td>\"\"</td>\n",
       "      <td>True</td>\n",
       "      <td>Struggled with refund button, process is unnec...</td>\n",
       "      <td>Negative</td>\n",
       "    </tr>\n",
       "    <tr>\n",
       "      <th>2</th>\n",
       "      <td>Kudos to the cabin crew! They were friendly, a...</td>\n",
       "      <td>False</td>\n",
       "      <td>\"\"</td>\n",
       "      <td>\"\"</td>\n",
       "      <td>False</td>\n",
       "      <td>\"\"</td>\n",
       "      <td>\"\"</td>\n",
       "    </tr>\n",
       "    <tr>\n",
       "      <th>3</th>\n",
       "      <td>Boarding was a breeze! The airline has an effi...</td>\n",
       "      <td>False</td>\n",
       "      <td>\"\"</td>\n",
       "      <td>\"\"</td>\n",
       "      <td>False</td>\n",
       "      <td>\"\"</td>\n",
       "      <td>\"\"</td>\n",
       "    </tr>\n",
       "    <tr>\n",
       "      <th>4</th>\n",
       "      <td>Despite hearing about issues with the refund b...</td>\n",
       "      <td>False</td>\n",
       "      <td>\"\"</td>\n",
       "      <td>\"\"</td>\n",
       "      <td>True</td>\n",
       "      <td>fficient experience with refund process despit...</td>\n",
       "      <td>Positive</td>\n",
       "    </tr>\n",
       "  </tbody>\n",
       "</table>\n",
       "</div>"
      ],
      "text/plain": [
       "                                             comment  Snack Diversity  \\\n",
       "0  What you see is what you pay! Transparent pric...            False   \n",
       "1  After struggling with the refund button for to...            False   \n",
       "2  Kudos to the cabin crew! They were friendly, a...            False   \n",
       "3  Boarding was a breeze! The airline has an effi...            False   \n",
       "4  Despite hearing about issues with the refund b...            False   \n",
       "\n",
       "  Snack Diversity_explanation Snack Diversity_sentiment  \\\n",
       "0                          \"\"                        \"\"   \n",
       "1                          \"\"                        \"\"   \n",
       "2                          \"\"                        \"\"   \n",
       "3                          \"\"                        \"\"   \n",
       "4                          \"\"                        \"\"   \n",
       "\n",
       "   Refund Process on Website  \\\n",
       "0                      False   \n",
       "1                       True   \n",
       "2                      False   \n",
       "3                      False   \n",
       "4                       True   \n",
       "\n",
       "               Refund Process on Website_explanation  \\\n",
       "0                                                 \"\"   \n",
       "1  Struggled with refund button, process is unnec...   \n",
       "2                                                 \"\"   \n",
       "3                                                 \"\"   \n",
       "4  fficient experience with refund process despit...   \n",
       "\n",
       "  Refund Process on Website_sentiment  \n",
       "0                                  \"\"  \n",
       "1                            Negative  \n",
       "2                                  \"\"  \n",
       "3                                  \"\"  \n",
       "4                            Positive  "
      ]
     },
     "execution_count": 59,
     "metadata": {},
     "output_type": "execute_result"
    }
   ],
   "source": [
    "df.head()"
   ]
  },
  {
   "cell_type": "markdown",
   "metadata": {},
   "source": [
    "### Step 4: Report on Changes in Comments"
   ]
  },
  {
   "cell_type": "code",
   "execution_count": 89,
   "metadata": {},
   "outputs": [],
   "source": [
    "import matplotlib.pyplot as plt"
   ]
  },
  {
   "cell_type": "code",
   "execution_count": 84,
   "metadata": {},
   "outputs": [],
   "source": [
    "month = [\"Dec\", \"Jan\", \"Feb\", \"Mar\", \"Apr\", \"Jun\", \"Jul\"]\n",
    "percent_happy = [np.random.normal(0.5, 0.1) for _ in range(len(month) - 1)] + [\n",
    "    df[df[\"Refund Process on Website_sentiment\"] == 'Positive'].shape[0] / df[df['Refund Process on Website'] == True].shape[0]\n",
    "]"
   ]
  },
  {
   "cell_type": "code",
   "execution_count": 95,
   "metadata": {},
   "outputs": [
    {
     "data": {
      "text/plain": [
       "Text(0.5, 1.0, 'Sentiment on Refund Process on Website')"
      ]
     },
     "execution_count": 95,
     "metadata": {},
     "output_type": "execute_result"
    },
    {
     "data": {
      "image/png": "[encoded data removed]",
      "text/plain": [
       "<Figure size 640x480 with 1 Axes>"
      ]
     },
     "metadata": {},
     "output_type": "display_data"
    }
   ],
   "source": [
    "fig, ax = plt.subplots()\n",
    "\n",
    "ax.bar(month, percent_happy)\n",
    "\n",
    "ax.set_ylabel(\"% happy\")\n",
    "ax.set_title('Sentiment on Refund Process on Website')"
   ]
  },
  {
   "cell_type": "code",
   "execution_count": null,
   "metadata": {},
   "outputs": [],
   "source": []
  }
 ],
 "metadata": {
  "kernelspec": {
   "display_name": "airline",
   "language": "python",
   "name": "python3"
  },
  "language_info": {
   "codemirror_mode": {
    "name": "ipython",
    "version": 3
   },
   "file_extension": ".py",
   "mimetype": "text/x-python",
   "name": "python",
   "nbconvert_exporter": "python",
   "pygments_lexer": "ipython3",
   "version": "3.10.13"
  },
  "orig_nbformat": 4
 },
 "nbformat": 4,
 "nbformat_minor": 2
}
